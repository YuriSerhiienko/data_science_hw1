{
  "nbformat": 4,
  "nbformat_minor": 0,
  "metadata": {
    "colab": {
      "provenance": [],
      "authorship_tag": "ABX9TyMrerQyOwNM1n4sHdzV0DOW",
      "include_colab_link": true
    },
    "kernelspec": {
      "name": "python3",
      "display_name": "Python 3"
    },
    "language_info": {
      "name": "python"
    }
  },
  "cells": [
    {
      "cell_type": "markdown",
      "metadata": {
        "id": "view-in-github",
        "colab_type": "text"
      },
      "source": [
        "<a href=\"https://colab.research.google.com/github/YuriSerhiienko/data_science_hw1/blob/main/Hw1.ipynb\" target=\"_parent\"><img src=\"https://colab.research.google.com/assets/colab-badge.svg\" alt=\"Open In Colab\"/></a>"
      ]
    },
    {
      "cell_type": "code",
      "execution_count": null,
      "metadata": {
        "id": "6xtRFlq6o-6q"
      },
      "outputs": [],
      "source": [
        "#Створіть одновимірний масив (вектор) з першими 10-ма натуральними числами та виведіть його значення.\n",
        "import numpy as np\n",
        "\n",
        "numbers = list(range(1, 11))\n",
        "print(numbers)"
      ]
    },
    {
      "cell_type": "code",
      "source": [
        "#Створіть двовимірний масив (матрицю) розміром 3x3, заповніть його нулями та виведіть його значення.\n",
        "\n",
        "matrix = np.zeros((3, 3))\n",
        "print(matrix)"
      ],
      "metadata": {
        "id": "y006zPi6qIwm"
      },
      "execution_count": null,
      "outputs": []
    },
    {
      "cell_type": "code",
      "source": [
        "#Створіть масив розміром 5x5, заповніть його випадковими цілими числами в діапазоні від 1 до 10 та виведіть його значення.\n",
        "\n",
        "matrix = np.random.randint(1, 11, size=(5, 5))\n",
        "print(matrix)"
      ],
      "metadata": {
        "id": "2K-eZWpiqSoW"
      },
      "execution_count": null,
      "outputs": []
    },
    {
      "cell_type": "code",
      "source": [
        "#Створіть масив розміром 4x4, заповніть його випадковими дійсними числами в діапазоні від 0 до 1 та виведіть його значення.\n",
        "\n",
        "matrix = np.random.rand(4, 4)\n",
        "print(matrix)"
      ],
      "metadata": {
        "id": "FJI6Cfl3rK0A"
      },
      "execution_count": null,
      "outputs": []
    },
    {
      "cell_type": "code",
      "source": [
        "#Створіть два одновимірних масиви розміром 5, заповніть їх випадковими цілими числами в діапазоні від 1 до 10 та виконайте на них поелементні операції додавання, віднімання та множення.\n",
        "\n",
        "array1 = np.random.randint(1, 11, 5)\n",
        "array2 = np.random.randint(1, 11, 5)\n",
        "\n",
        "addition = array1 + array2\n",
        "subtraction = array1 - array2\n",
        "multiplication = array1 * array2\n",
        "\n",
        "print(array1)\n",
        "print(array2)\n",
        "print(addition)\n",
        "print(subtraction)\n",
        "print(multiplication)"
      ],
      "metadata": {
        "id": "mXDmVa08rdbn"
      },
      "execution_count": null,
      "outputs": []
    },
    {
      "cell_type": "code",
      "source": [
        "#Створіть два вектори розміром 7, заповніть довільними числами та знайдіть їх скалярний добуток.\n",
        "\n",
        "vector1 = np.random.rand(7)\n",
        "vector2 = np.random.rand(7)\n",
        "\n",
        "dot_product = np.dot(vector1, vector2)\n",
        "\n",
        "print(dot_product)"
      ],
      "metadata": {
        "id": "jxsP6b3dr1ed"
      },
      "execution_count": null,
      "outputs": []
    },
    {
      "cell_type": "code",
      "source": [
        "#Створіть дві матриці розміром 2x2 та 2x3, заповніть їх випадковими цілими числами в діапазоні від 1 до 10 та перемножте їх між собою.\n",
        "\n",
        "matrix1 = np.random.randint(1, 11, (2, 2))\n",
        "matrix2 = np.random.randint(1, 11, (2, 3))\n",
        "\n",
        "product = np.dot(matrix1, matrix2)\n",
        "\n",
        "print(product)"
      ],
      "metadata": {
        "id": "PlRAqtxysBUf"
      },
      "execution_count": null,
      "outputs": []
    },
    {
      "cell_type": "code",
      "source": [
        "#Створіть матрицю розміром 3x3, заповніть її випадковими цілими числами в діапазоні від 1 до 10 та знайдіть її обернену матрицю.\n",
        "\n",
        "matrix = np.random.randint(1, 11, (3, 3))\n",
        "\n",
        "inverse_matrix = np.linalg.inv(matrix)\n",
        "print(\"Матриця:\")\n",
        "print(matrix)\n",
        "print(\"Обернена матриця:\")\n",
        "print(inverse_matrix)"
      ],
      "metadata": {
        "id": "X2xwBFPftAD_"
      },
      "execution_count": null,
      "outputs": []
    },
    {
      "cell_type": "code",
      "source": [
        "#Створіть матрицю розміром 4x4, заповніть її випадковими дійсними числами в діапазоні від 0 до 1 та транспонуйте її.\n",
        "\n",
        "matrix = np.random.rand(4, 4)\n",
        "transposed_matrix = matrix.T\n",
        "\n",
        "print(\"Матриця:\")\n",
        "print(matrix)\n",
        "print(\"Транспонована матриця:\")\n",
        "print(transposed_matrix)\n"
      ],
      "metadata": {
        "id": "gAvCwZOFtpc6"
      },
      "execution_count": null,
      "outputs": []
    },
    {
      "cell_type": "code",
      "source": [
        "#Створіть матрицю розміром 3x4 та вектор розміром 4, заповніть їх випадковими цілими числами в діапазоні від 1 до 10 та перемножте матрицю на вектор.\n",
        "\n",
        "matrix = np.random.randint(1, 11, size=(3, 4))\n",
        "vector = np.random.randint(1, 11, size=4)\n",
        "result = matrix @ vector\n",
        "\n",
        "print(\"Матриця:\")\n",
        "print(matrix)\n",
        "print(\"\\nВектор:\")\n",
        "print(vector)\n",
        "print(\"\\nРезультат перемноження матриці на вектор:\")\n",
        "print(result)\n"
      ],
      "metadata": {
        "id": "L_BaVMSPuFGt"
      },
      "execution_count": null,
      "outputs": []
    },
    {
      "cell_type": "code",
      "source": [
        "#Створіть матрицю розміром 2x3 та вектор розміром 3, заповніть їх випадковими дійсними числами в діапазоні від 0 до 1 та перемножте матрицю на вектор.\n",
        "\n",
        "\n",
        "matrix = np.random.rand(2, 3)\n",
        "\n",
        "vector = np.random.rand(3)\n",
        "\n",
        "result = matrix.dot(vector)\n",
        "\n",
        "print(\"Матриця:\")\n",
        "print(matrix)\n",
        "print(\"\\nВектор:\")\n",
        "print(vector)\n",
        "print(\"\\nРезультат перемноження матриці на вектор:\")\n",
        "print(result)"
      ],
      "metadata": {
        "id": "AE0ktL49u7N4"
      },
      "execution_count": null,
      "outputs": []
    },
    {
      "cell_type": "code",
      "source": [
        "#Створіть дві матриці розміром 2x2, заповніть їх випадковими цілими числами в діапазоні від 1 до 10 та виконайте їхнє поелементне множення.\n",
        "\n",
        "matrix1 = np.random.randint(1, 11, size=(2, 2))\n",
        "matrix2 = np.random.randint(1, 11, size=(2, 2))\n",
        "\n",
        "result = matrix1 * matrix2\n",
        "\n",
        "print(\"Матриця 1:\")\n",
        "print(matrix1)\n",
        "print(\"\\nМатриця 2:\")\n",
        "print(matrix2)\n",
        "print(\"\\nРезультат поелементного множення матриць:\")\n",
        "print(result)"
      ],
      "metadata": {
        "id": "x0l-0zq9vUHX"
      },
      "execution_count": null,
      "outputs": []
    },
    {
      "cell_type": "code",
      "source": [
        "#Створіть дві матриці розміром 2x2, заповніть їх випадковими цілими числами в діапазоні від 1 до 10 та знайдіть їх добуток.\n",
        "\n",
        "matrix1 = np.random.randint(1, 11, size=(2, 2))\n",
        "matrix2 = np.random.randint(1, 11, size=(2, 2))\n",
        "\n",
        "product = np.dot(matrix1, matrix2)\n",
        "\n",
        "print(\"Матриця 1:\")\n",
        "print(matrix1)\n",
        "print(\"\\nМатриця 2:\")\n",
        "print(matrix2)\n",
        "print(\"\\nДобуток матриць:\")\n",
        "print(product)\n"
      ],
      "metadata": {
        "id": "dFTCIAbfvmeo"
      },
      "execution_count": null,
      "outputs": []
    },
    {
      "cell_type": "code",
      "source": [
        "#Створіть матрицю розміром 5x5, заповніть її випадковими цілими числами в діапазоні від 1 до 100 та знайдіть суму елементів матриці.\n",
        "\n",
        "matrix = np.random.randint(1, 101, size=(5, 5))\n",
        "\n",
        "print(\"Матриця:\")\n",
        "print(matrix)\n",
        "\n",
        "sum_of_elements = np.sum(matrix)\n",
        "\n",
        "print(\"\\nСума елементів матриці:\", sum_of_elements)\n"
      ],
      "metadata": {
        "id": "q-AkDbRov5a-"
      },
      "execution_count": null,
      "outputs": []
    },
    {
      "cell_type": "code",
      "source": [
        "#Створіть дві матриці розміром 4x4, заповніть їх випадковими цілими числами в діапазоні від 1 до 10 та знайдіть їхню різницю.\n",
        "\n",
        "matrix1 = np.random.randint(1, 11, size=(4, 4))\n",
        "\n",
        "matrix2 = np.random.randint(1, 11, size=(4, 4))\n",
        "\n",
        "difference = matrix1 - matrix2\n",
        "\n",
        "print(\"Перша матриця:\")\n",
        "print(matrix1)\n",
        "\n",
        "print(\"\\nДруга матриця:\")\n",
        "print(matrix2)\n",
        "\n",
        "print(\"\\nРізниця між матрицями:\")\n",
        "print(difference)"
      ],
      "metadata": {
        "id": "HMu4VarOwPOe"
      },
      "execution_count": null,
      "outputs": []
    },
    {
      "cell_type": "code",
      "source": [
        "#Створіть матрицю розміром 3x3, заповніть її випадковими дійсними числами в діапазоні від 0 до 1 та знайдіть вектор-стовпчик, що містить суму елементів кожного рядка матриці.\n",
        "\n",
        "matrix = np.random.rand(3, 3)\n",
        "\n",
        "sum_of_rows = matrix.sum(axis=1).reshape(-1, 1)\n",
        "\n",
        "print(\"Матриця:\")\n",
        "print(matrix)\n",
        "\n",
        "print(\"\\nВектор-стовпчик сум елементів кожного рядка:\")\n",
        "print(sum_of_rows)"
      ],
      "metadata": {
        "id": "QaW3_d6iwj2W"
      },
      "execution_count": null,
      "outputs": []
    },
    {
      "cell_type": "code",
      "source": [
        "#Створіть матрицю розміром 3x4 з довільними цілими числами і створінь матрицю з квадратами цих чисел.\n",
        "\n",
        "matrix = np.random.randint(1, 11, size=(3, 4))\n",
        "\n",
        "squared_matrix = matrix ** 2\n",
        "\n",
        "print(\"Матриця з довільними цілими числами:\")\n",
        "print(matrix)\n",
        "\n",
        "print(\"\\nМатриця з квадратами чисел:\")\n",
        "print(squared_matrix)"
      ],
      "metadata": {
        "id": "F7VyKSXAwti2"
      },
      "execution_count": null,
      "outputs": []
    },
    {
      "cell_type": "code",
      "source": [
        "#Створіть вектор розміром 4, заповніть його випадковими цілими числами в діапазоні від 1 до 50 та знайдіть вектор з квадратними коренями цих чисел.\n",
        "\n",
        "vector = np.random.randint(1, 51, size=4)\n",
        "\n",
        "sqrt_vector = np.sqrt(vector)\n",
        "\n",
        "print(\"Вектор з випадковими цілими числами:\")\n",
        "print(vector)\n",
        "\n",
        "print(\"\\nВектор з квадратними коренями чисел:\")\n",
        "print(sqrt_vector)\n"
      ],
      "metadata": {
        "id": "Du0NUVPgxIwb"
      },
      "execution_count": null,
      "outputs": []
    }
  ]
}